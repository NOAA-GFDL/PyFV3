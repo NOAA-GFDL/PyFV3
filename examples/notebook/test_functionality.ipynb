{
 "cells": [
  {
   "cell_type": "markdown",
   "id": "154ea2ba-183f-4e44-a957-43ee4bcb35a1",
   "metadata": {},
   "source": [
    "# A notebook to test the model and infrastructure"
   ]
  },
  {
   "cell_type": "markdown",
   "id": "ff183064-a900-47ac-98bf-5b423b4acdac",
   "metadata": {},
   "source": [
    "Here we're going to use the copy stencil to test out the NDSL infrastructure and our ability to run pyFV3 code"
   ]
  },
  {
   "cell_type": "markdown",
   "id": "587b6415-6b2f-4fa0-bc96-0fd0a5e82b84",
   "metadata": {},
   "source": [
    "## First set up parameters and our MPI environment:"
   ]
  },
  {
   "cell_type": "code",
   "execution_count": null,
   "id": "4552f963-6b29-41de-88ea-5fae0d9be6e7",
   "metadata": {},
   "outputs": [],
   "source": [
    "nx = 20\n",
    "ny = 20\n",
    "nz = 10\n",
    "nhalo = 3\n",
    "backend = \"numpy\"\n",
    "\n",
    "import ipyparallel as ipp\n",
    "\n",
    "layout = (1, 1)\n",
    "ntiles = 6\n",
    "# spinup cluster of MPI-workers\n",
    "num_ranks = ntiles * layout[0] * layout[1]\n",
    "\n",
    "cluster = ipp.Cluster(engines=\"mpi\", n=num_ranks).start_and_connect_sync()\n",
    "\n",
    "# broadcast configuration to all workers\n",
    "ar = cluster[:].push(\n",
    "    {\n",
    "        \"ntiles\": ntiles,\n",
    "        \"nx\": nx,\n",
    "        \"ny\": ny,\n",
    "        \"nz\": nz,\n",
    "        \"nhalo\": nhalo,\n",
    "        \"layout\": layout,\n",
    "        \"backend\": backend,\n",
    "    }\n",
    ")\n",
    "\n",
    "# start executing cells on the workers in parallel from here on\n",
    "%autopx"
   ]
  },
  {
   "cell_type": "code",
   "execution_count": null,
   "id": "44c29c85-1a4f-48e9-9f5a-e738f3aeff4b",
   "metadata": {},
   "outputs": [],
   "source": [
    "from mpi4py import MPI\n",
    "\n",
    "mpi_comm = MPI.COMM_WORLD\n",
    "mpi_rank = mpi_comm.Get_rank()\n",
    "print(f\"Hello from rank {mpi_rank}\")"
   ]
  },
  {
   "cell_type": "markdown",
   "id": "ea82fd8b-0f24-4622-be69-2fdf66ef86ae",
   "metadata": {},
   "source": [
    "## Next set up the NDSL structures used by the model:"
   ]
  },
  {
   "cell_type": "code",
   "execution_count": null,
   "id": "58ec146b-5737-46e9-8f56-91f9564f1deb",
   "metadata": {},
   "outputs": [],
   "source": [
    "import gt4py.cartesian.gtscript as gtscript\n",
    "from gt4py.cartesian.gtscript import PARALLEL, computation, interval\n",
    "\n",
    "from ndsl.dsl.typing import Float, FloatField, FloatFieldIJ\n",
    "from ndsl.comm.communicator import Communicator, CubedSphereCommunicator\n",
    "from ndsl.dsl.stencil import StencilFactory, GridIndexing\n",
    "from ndsl.initialization import SubtileGridSizer\n",
    "from ndsl.initialization.allocator import QuantityFactory\n",
    "from ndsl.quantity import Quantity\n",
    "from ndsl.comm.partitioner import CubedSpherePartitioner, TilePartitioner\n",
    "from ndsl.constants import X_DIM, Y_DIM, Z_DIM\n",
    "from ndsl.dsl.stencil_config import CompilationConfig, StencilConfig\n",
    "from ndsl.dsl.dace.wrapped_halo_exchange import WrappedHaloUpdater"
   ]
  },
  {
   "cell_type": "code",
   "execution_count": null,
   "id": "2470a1c1-9fd5-4585-a572-61e838c3b31c",
   "metadata": {},
   "outputs": [],
   "source": [
    "partitioner = CubedSpherePartitioner(TilePartitioner(layout))\n",
    "cs_communicator = CubedSphereCommunicator(mpi_comm, partitioner)\n",
    "\n",
    "sizer = SubtileGridSizer.from_tile_params(\n",
    "    nx_tile=nx,\n",
    "    ny_tile=ny,\n",
    "    nz=nz,\n",
    "    n_halo=nhalo,\n",
    "    extra_dim_lengths={},\n",
    "    layout=layout,\n",
    "    tile_partitioner=partitioner.tile,\n",
    "    tile_rank=cs_communicator.tile.rank,\n",
    ")\n",
    "\n",
    "# useful for easily allocating distributed data storages (fields)\n",
    "quantity_factory = QuantityFactory.from_backend(sizer=sizer, backend=backend)\n",
    "\n",
    "compilation_config = CompilationConfig(backend=backend, communicator=cs_communicator)\n",
    "\n",
    "stencil_config = StencilConfig(compare_to_numpy=False, compilation_config=compilation_config)\n",
    "\n",
    "grid_indexing = GridIndexing.from_sizer_and_communicator(sizer=sizer, comm=cs_communicator)\n",
    "\n",
    "stencil_factory = StencilFactory(config=stencil_config, grid_indexing=grid_indexing)"
   ]
  },
  {
   "cell_type": "markdown",
   "id": "e8ac4b28-70fe-45a7-bb43-b0a050ce771e",
   "metadata": {},
   "source": [
    "## Set up fields and the stencil:"
   ]
  },
  {
   "cell_type": "code",
   "execution_count": null,
   "id": "edf36a98-5015-43cc-b7a0-cf4fea3fa420",
   "metadata": {},
   "outputs": [],
   "source": [
    "from pyFV3.stencils.basic_operations import copy_defn\n",
    "\n",
    "from_field = quantity_factory.ones(dims=(X_DIM, Y_DIM, Z_DIM), units=\"none\", dtype=\"float\")\n",
    "to_field = quantity_factory.zeros(dims=(X_DIM, Y_DIM, Z_DIM), units=\"none\", dtype=\"float\")\n",
    "\n",
    "if mpi_rank == 0:\n",
    "    print(f\"Size of from field on rank 0 is {from_field.extent}\")\n",
    "\n",
    "copy_stencil = stencil_factory.from_origin_domain(\n",
    "    func = copy_defn,\n",
    "    origin=grid_indexing.origin_compute(),\n",
    "    domain=grid_indexing.domain_compute(),\n",
    ")"
   ]
  },
  {
   "cell_type": "markdown",
   "id": "769ea64d-4005-422c-905e-28cd0de406f3",
   "metadata": {},
   "source": [
    "## And run everything:"
   ]
  },
  {
   "cell_type": "code",
   "execution_count": null,
   "id": "5b11d35a-0c5f-4f53-852d-b29ebadde18a",
   "metadata": {},
   "outputs": [],
   "source": [
    "if mpi_rank in [0, 3]:\n",
    "    copy_stencil(from_field, to_field)\n",
    "    print (to_field.data[:,:,0])"
   ]
  },
  {
   "cell_type": "markdown",
   "id": "2b86d84a-61bf-484d-bf27-994a9bf66f1e",
   "metadata": {},
   "source": [
    "There should be two fields shown with 0 in the halo and 1 in the domain"
   ]
  },
  {
   "cell_type": "code",
   "execution_count": null,
   "id": "b8931eca-ea5e-4a70-8e24-105b088ca1bf",
   "metadata": {},
   "outputs": [],
   "source": [
    "# req = cs_communicator.start_halo_update(to_field, nhalo)\n",
    "# req.wait()\n",
    "cs_communicator.halo_update(to_field, nhalo)\n",
    "if mpi_rank == 1:\n",
    "    print (to_field.data[:,:,0])"
   ]
  },
  {
   "cell_type": "markdown",
   "id": "4a846553-8e54-4318-b63a-e1f909c72ff1",
   "metadata": {},
   "source": [
    "There should be one field shown with 1 on the left and right halo edges and 0 everywhere else"
   ]
  },
  {
   "cell_type": "code",
   "execution_count": null,
   "id": "e069e78d-3072-48af-923b-172ac34fe428",
   "metadata": {},
   "outputs": [],
   "source": []
  }
 ],
 "metadata": {
  "kernelspec": {
   "display_name": "Python 3 (ipykernel)",
   "language": "python",
   "name": "python3"
  },
  "language_info": {
   "codemirror_mode": {
    "name": "ipython",
    "version": 3
   },
   "file_extension": ".py",
   "mimetype": "text/x-python",
   "name": "python",
   "nbconvert_exporter": "python",
   "pygments_lexer": "ipython3",
   "version": "3.8.18"
  }
 },
 "nbformat": 4,
 "nbformat_minor": 5
}
